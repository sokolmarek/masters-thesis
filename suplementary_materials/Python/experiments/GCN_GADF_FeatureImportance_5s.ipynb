{
 "cells": [
  {
   "cell_type": "code",
   "execution_count": 16,
   "metadata": {
    "collapsed": true,
    "ExecuteTime": {
     "start_time": "2023-04-23T15:53:59.025878Z",
     "end_time": "2023-04-23T15:53:59.033333Z"
    }
   },
   "outputs": [],
   "source": [
    "import matplotlib.pyplot as plt\n",
    "import pandas as pd\n",
    "import numpy as np\n",
    "import pickle\n",
    "import scipy\n",
    "import shap\n",
    "import lime\n",
    "\n",
    "from utils import utils\n",
    "import utils.efinet as efinet\n",
    "from sklearn.model_selection import train_test_split\n",
    "from keras.utils.np_utils import to_categorical\n",
    "from imblearn.combine import SMOTETomek\n",
    "from imblearn.over_sampling import SMOTE\n",
    "import tensorflow as tf\n",
    "\n",
    "# import cuml\n",
    "\n",
    "# Plot settings\n",
    "fpath = \"C:/Users/Marek/OneDrive/School/DP/masters-thesis/assets/figures/merged\"\n",
    "# plt.rcParams[\"font.family\"] = [\"Latin Modern Roman\"]\n",
    "plt.rcParams[\"figure.figsize\"] = (5, 5)\n",
    "# plt.rcParams[\"savefig.dpi\"] = 300\n",
    "# plt.rcParams[\"font.size\"] = 20"
   ]
  },
  {
   "cell_type": "code",
   "execution_count": 10,
   "outputs": [
    {
     "name": "stdout",
     "output_type": "stream",
     "text": [
      "Data shape:  (7602, 32, 32, 3)\n",
      "Counts: \n",
      " 1    6964\n",
      "0     638\n",
      "Name: label, dtype: int64\n"
     ]
    }
   ],
   "source": [
    "# Load labels\n",
    "with open(\"../data/Merged/CLAS_merged_5s.pkl\", \"rb\") as f:\n",
    "    clas_labels = pickle.load(f)\n",
    "clas_labels = clas_labels[\"label\"]\n",
    "clas_labels[clas_labels == 1] = 10\n",
    "clas_labels[clas_labels == 3] = 1\n",
    "clas_labels[clas_labels == 6] = 1\n",
    "clas_labels[clas_labels == 8] = 1\n",
    "idx = clas_labels.isin([0, 1])\n",
    "clas_labels = clas_labels[idx]\n",
    "\n",
    "# Load and concat data\n",
    "with open(\"../data/GADF_Data/GADF_CLAS_merged_5s.pkl\", \"rb\") as f:\n",
    "    clas_gadf = pickle.load(f)\n",
    "\n",
    "clas_gcn = scipy.io.loadmat(\"../data/GCN_Data/GCN_CLAS_Standard_5s.mat\")\n",
    "clas_gcn = np.transpose(clas_gcn[\"cause5s\"], (0, 2, 3, 1))\n",
    "\n",
    "L = len(clas_gcn)\n",
    "\n",
    "clas_result = []\n",
    "for i in range(L):\n",
    "    clas_result.append(clas_gcn[i] + clas_gadf[i])\n",
    "\n",
    "clas_data = np.array(clas_result)[idx]\n",
    "\n",
    "print(\"Data shape: \", np.shape(clas_data))\n",
    "print(\"Counts: \\n\", pd.value_counts(clas_labels))"
   ],
   "metadata": {
    "collapsed": false,
    "ExecuteTime": {
     "start_time": "2023-04-23T15:53:21.879239Z",
     "end_time": "2023-04-23T15:53:23.159404Z"
    }
   }
  },
  {
   "cell_type": "code",
   "execution_count": 11,
   "outputs": [
    {
     "name": "stdout",
     "output_type": "stream",
     "text": [
      "Data shape:  (4520, 32, 32, 3)\n",
      "Counts: \n",
      " 0    3519\n",
      "1    1001\n",
      "Name: model_label, dtype: int64\n"
     ]
    }
   ],
   "source": [
    "# Load labels\n",
    "with open(\"../data/Merged/WESAD_merged_5s.pkl\", \"rb\") as f:\n",
    "    wesad_labels = pickle.load(f)\n",
    "wesad_labels = wesad_labels[\"model_label\"]\n",
    "\n",
    "# Load and concat data\n",
    "with open(\"../data/GADF_Data/GADF_WESAD_merged_5s.pkl\", \"rb\") as f:\n",
    "    wesad_gadf = pickle.load(f)\n",
    "\n",
    "wesad_gcn = scipy.io.loadmat(\"../data/GCN_Data/GCN_WESAD_Standard_5s.mat\")\n",
    "wesad_gcn = np.transpose(wesad_gcn[\"cause5s\"], (0, 2, 3, 1))\n",
    "\n",
    "L = len(wesad_gcn)\n",
    "\n",
    "wesad_result = []\n",
    "for i in range(L):\n",
    "    wesad_result.append(wesad_gcn[i] + wesad_gadf[i])\n",
    "\n",
    "wesad_data = np.array(wesad_result)\n",
    "\n",
    "print(\"Data shape: \", np.shape(wesad_data))\n",
    "print(\"Counts: \\n\", pd.value_counts(wesad_labels))"
   ],
   "metadata": {
    "collapsed": false,
    "ExecuteTime": {
     "start_time": "2023-04-23T15:53:23.159404Z",
     "end_time": "2023-04-23T15:53:23.574447Z"
    }
   }
  },
  {
   "cell_type": "code",
   "execution_count": 46,
   "outputs": [
    {
     "name": "stdout",
     "output_type": "stream",
     "text": [
      "Data shape:  (12122, 32, 32, 3)\n",
      "Counts: \n",
      " 1    7965\n",
      "0    4157\n",
      "dtype: int64\n"
     ]
    }
   ],
   "source": [
    "data = np.concatenate((clas_gadf[idx], wesad_gadf), axis=0)\n",
    "labels = np.concatenate((clas_labels, wesad_labels), axis=0)\n",
    "\n",
    "print(\"Data shape: \", np.shape(data))\n",
    "print(\"Counts: \\n\", pd.value_counts(labels))"
   ],
   "metadata": {
    "collapsed": false,
    "ExecuteTime": {
     "start_time": "2023-04-23T16:06:34.659609Z",
     "end_time": "2023-04-23T16:06:34.730684Z"
    }
   }
  },
  {
   "cell_type": "code",
   "execution_count": 47,
   "outputs": [
    {
     "name": "stdout",
     "output_type": "stream",
     "text": [
      "(9697, 32, 32, 3) (2425, 32, 32, 3) (9697,) (2425,)\n"
     ]
    }
   ],
   "source": [
    "# Split data into train and test\n",
    "X, y = data, labels\n",
    "X_train, X_test, y_train, y_test = train_test_split(X, y, test_size=0.20, shuffle=True, random_state=42)\n",
    "\n",
    "print(X_train.shape, X_test.shape, y_train.shape, y_test.shape)\n",
    "\n",
    "y_train = to_categorical(y_train, num_classes=2)\n",
    "y_test = to_categorical(y_test, num_classes=2)"
   ],
   "metadata": {
    "collapsed": false,
    "ExecuteTime": {
     "start_time": "2023-04-23T16:06:36.834726Z",
     "end_time": "2023-04-23T16:06:36.880185Z"
    }
   }
  },
  {
   "cell_type": "code",
   "execution_count": 48,
   "outputs": [
    {
     "name": "stdout",
     "output_type": "stream",
     "text": [
      "\n",
      "\n",
      "\n",
      "\n",
      "\n",
      "\n",
      "Epoch 1/30\n",
      "38/38 [==============================] - 2s 26ms/step - loss: 0.3971 - Efficient_CapsNet_loss: 0.2139 - Generator_loss: 0.4673 - Efficient_CapsNet_accuracy: 0.6664 - val_loss: 0.4237 - val_Efficient_CapsNet_loss: 0.2657 - val_Generator_loss: 0.4032 - val_Efficient_CapsNet_accuracy: 0.6709\n",
      "Epoch 2/30\n",
      "38/38 [==============================] - 1s 16ms/step - loss: 0.2683 - Efficient_CapsNet_loss: 0.1116 - Generator_loss: 0.3998 - Efficient_CapsNet_accuracy: 0.8384 - val_loss: 0.3452 - val_Efficient_CapsNet_loss: 0.1886 - val_Generator_loss: 0.3997 - val_Efficient_CapsNet_accuracy: 0.8474\n",
      "Epoch 3/30\n",
      "38/38 [==============================] - 1s 17ms/step - loss: 0.2393 - Efficient_CapsNet_loss: 0.0826 - Generator_loss: 0.3997 - Efficient_CapsNet_accuracy: 0.8916 - val_loss: 0.3182 - val_Efficient_CapsNet_loss: 0.1616 - val_Generator_loss: 0.3995 - val_Efficient_CapsNet_accuracy: 0.8458\n",
      "Epoch 4/30\n",
      "38/38 [==============================] - 1s 16ms/step - loss: 0.2293 - Efficient_CapsNet_loss: 0.0726 - Generator_loss: 0.3997 - Efficient_CapsNet_accuracy: 0.9043 - val_loss: 0.2868 - val_Efficient_CapsNet_loss: 0.1303 - val_Generator_loss: 0.3994 - val_Efficient_CapsNet_accuracy: 0.8709\n",
      "Epoch 5/30\n",
      "38/38 [==============================] - 1s 16ms/step - loss: 0.2250 - Efficient_CapsNet_loss: 0.0683 - Generator_loss: 0.3997 - Efficient_CapsNet_accuracy: 0.9116 - val_loss: 0.2961 - val_Efficient_CapsNet_loss: 0.1396 - val_Generator_loss: 0.3994 - val_Efficient_CapsNet_accuracy: 0.8342\n",
      "Epoch 6/30\n",
      "38/38 [==============================] - 1s 16ms/step - loss: 0.2195 - Efficient_CapsNet_loss: 0.0628 - Generator_loss: 0.3997 - Efficient_CapsNet_accuracy: 0.9187 - val_loss: 0.2502 - val_Efficient_CapsNet_loss: 0.0937 - val_Generator_loss: 0.3994 - val_Efficient_CapsNet_accuracy: 0.9002\n",
      "Epoch 7/30\n",
      "38/38 [==============================] - 1s 16ms/step - loss: 0.2176 - Efficient_CapsNet_loss: 0.0609 - Generator_loss: 0.3997 - Efficient_CapsNet_accuracy: 0.9221 - val_loss: 0.2599 - val_Efficient_CapsNet_loss: 0.1034 - val_Generator_loss: 0.3994 - val_Efficient_CapsNet_accuracy: 0.8792\n",
      "Epoch 8/30\n",
      "38/38 [==============================] - 1s 16ms/step - loss: 0.2165 - Efficient_CapsNet_loss: 0.0598 - Generator_loss: 0.3997 - Efficient_CapsNet_accuracy: 0.9218 - val_loss: 0.2572 - val_Efficient_CapsNet_loss: 0.1007 - val_Generator_loss: 0.3993 - val_Efficient_CapsNet_accuracy: 0.8784\n",
      "Epoch 9/30\n",
      "38/38 [==============================] - 1s 16ms/step - loss: 0.2124 - Efficient_CapsNet_loss: 0.0557 - Generator_loss: 0.3997 - Efficient_CapsNet_accuracy: 0.9276 - val_loss: 0.2415 - val_Efficient_CapsNet_loss: 0.0849 - val_Generator_loss: 0.3993 - val_Efficient_CapsNet_accuracy: 0.8953\n",
      "Epoch 10/30\n",
      "38/38 [==============================] - 1s 16ms/step - loss: 0.2109 - Efficient_CapsNet_loss: 0.0543 - Generator_loss: 0.3997 - Efficient_CapsNet_accuracy: 0.9281 - val_loss: 0.2378 - val_Efficient_CapsNet_loss: 0.0813 - val_Generator_loss: 0.3993 - val_Efficient_CapsNet_accuracy: 0.9097\n",
      "Epoch 11/30\n",
      "38/38 [==============================] - 1s 16ms/step - loss: 0.2073 - Efficient_CapsNet_loss: 0.0506 - Generator_loss: 0.3997 - Efficient_CapsNet_accuracy: 0.9336 - val_loss: 0.2415 - val_Efficient_CapsNet_loss: 0.0849 - val_Generator_loss: 0.3993 - val_Efficient_CapsNet_accuracy: 0.9027\n",
      "Epoch 12/30\n",
      "38/38 [==============================] - 1s 16ms/step - loss: 0.2060 - Efficient_CapsNet_loss: 0.0493 - Generator_loss: 0.3997 - Efficient_CapsNet_accuracy: 0.9358 - val_loss: 0.2382 - val_Efficient_CapsNet_loss: 0.0816 - val_Generator_loss: 0.3993 - val_Efficient_CapsNet_accuracy: 0.9109\n",
      "Epoch 13/30\n",
      "38/38 [==============================] - 1s 16ms/step - loss: 0.2042 - Efficient_CapsNet_loss: 0.0475 - Generator_loss: 0.3997 - Efficient_CapsNet_accuracy: 0.9392 - val_loss: 0.2369 - val_Efficient_CapsNet_loss: 0.0804 - val_Generator_loss: 0.3993 - val_Efficient_CapsNet_accuracy: 0.9101\n",
      "Epoch 14/30\n",
      "38/38 [==============================] - 1s 16ms/step - loss: 0.2009 - Efficient_CapsNet_loss: 0.0442 - Generator_loss: 0.3997 - Efficient_CapsNet_accuracy: 0.9423 - val_loss: 0.2359 - val_Efficient_CapsNet_loss: 0.0793 - val_Generator_loss: 0.3993 - val_Efficient_CapsNet_accuracy: 0.9109\n",
      "Epoch 15/30\n",
      "38/38 [==============================] - 1s 16ms/step - loss: 0.1997 - Efficient_CapsNet_loss: 0.0430 - Generator_loss: 0.3997 - Efficient_CapsNet_accuracy: 0.9445 - val_loss: 0.2284 - val_Efficient_CapsNet_loss: 0.0719 - val_Generator_loss: 0.3993 - val_Efficient_CapsNet_accuracy: 0.9159\n",
      "Epoch 16/30\n",
      "38/38 [==============================] - 1s 16ms/step - loss: 0.1986 - Efficient_CapsNet_loss: 0.0419 - Generator_loss: 0.3997 - Efficient_CapsNet_accuracy: 0.9446 - val_loss: 0.2324 - val_Efficient_CapsNet_loss: 0.0759 - val_Generator_loss: 0.3993 - val_Efficient_CapsNet_accuracy: 0.9076\n",
      "Epoch 17/30\n",
      "38/38 [==============================] - 1s 16ms/step - loss: 0.1976 - Efficient_CapsNet_loss: 0.0410 - Generator_loss: 0.3997 - Efficient_CapsNet_accuracy: 0.9450 - val_loss: 0.2490 - val_Efficient_CapsNet_loss: 0.0924 - val_Generator_loss: 0.3993 - val_Efficient_CapsNet_accuracy: 0.8833\n",
      "Epoch 18/30\n",
      "38/38 [==============================] - 1s 16ms/step - loss: 0.1955 - Efficient_CapsNet_loss: 0.0389 - Generator_loss: 0.3997 - Efficient_CapsNet_accuracy: 0.9491 - val_loss: 0.2360 - val_Efficient_CapsNet_loss: 0.0794 - val_Generator_loss: 0.3993 - val_Efficient_CapsNet_accuracy: 0.9031\n",
      "Epoch 19/30\n",
      "38/38 [==============================] - 1s 16ms/step - loss: 0.1937 - Efficient_CapsNet_loss: 0.0370 - Generator_loss: 0.3997 - Efficient_CapsNet_accuracy: 0.9524 - val_loss: 0.2364 - val_Efficient_CapsNet_loss: 0.0798 - val_Generator_loss: 0.3993 - val_Efficient_CapsNet_accuracy: 0.8990\n",
      "Epoch 20/30\n",
      "38/38 [==============================] - 1s 16ms/step - loss: 0.1927 - Efficient_CapsNet_loss: 0.0361 - Generator_loss: 0.3997 - Efficient_CapsNet_accuracy: 0.9515 - val_loss: 0.2360 - val_Efficient_CapsNet_loss: 0.0795 - val_Generator_loss: 0.3993 - val_Efficient_CapsNet_accuracy: 0.9002\n",
      "Epoch 21/30\n",
      "38/38 [==============================] - 1s 16ms/step - loss: 0.1908 - Efficient_CapsNet_loss: 0.0341 - Generator_loss: 0.3997 - Efficient_CapsNet_accuracy: 0.9559 - val_loss: 0.2307 - val_Efficient_CapsNet_loss: 0.0741 - val_Generator_loss: 0.3993 - val_Efficient_CapsNet_accuracy: 0.9118\n",
      "Epoch 22/30\n",
      "38/38 [==============================] - 1s 16ms/step - loss: 0.1891 - Efficient_CapsNet_loss: 0.0324 - Generator_loss: 0.3997 - Efficient_CapsNet_accuracy: 0.9586 - val_loss: 0.2336 - val_Efficient_CapsNet_loss: 0.0771 - val_Generator_loss: 0.3993 - val_Efficient_CapsNet_accuracy: 0.9060\n",
      "Epoch 23/30\n",
      "38/38 [==============================] - 1s 16ms/step - loss: 0.1870 - Efficient_CapsNet_loss: 0.0303 - Generator_loss: 0.3997 - Efficient_CapsNet_accuracy: 0.9617 - val_loss: 0.2310 - val_Efficient_CapsNet_loss: 0.0744 - val_Generator_loss: 0.3994 - val_Efficient_CapsNet_accuracy: 0.9109\n",
      "Epoch 24/30\n",
      "38/38 [==============================] - 1s 16ms/step - loss: 0.1862 - Efficient_CapsNet_loss: 0.0295 - Generator_loss: 0.3997 - Efficient_CapsNet_accuracy: 0.9634 - val_loss: 0.2269 - val_Efficient_CapsNet_loss: 0.0703 - val_Generator_loss: 0.3993 - val_Efficient_CapsNet_accuracy: 0.9130\n",
      "Epoch 25/30\n",
      "38/38 [==============================] - 1s 16ms/step - loss: 0.1849 - Efficient_CapsNet_loss: 0.0282 - Generator_loss: 0.3997 - Efficient_CapsNet_accuracy: 0.9638 - val_loss: 0.2250 - val_Efficient_CapsNet_loss: 0.0685 - val_Generator_loss: 0.3993 - val_Efficient_CapsNet_accuracy: 0.9146\n",
      "Epoch 26/30\n",
      "38/38 [==============================] - 1s 16ms/step - loss: 0.1834 - Efficient_CapsNet_loss: 0.0267 - Generator_loss: 0.3997 - Efficient_CapsNet_accuracy: 0.9645 - val_loss: 0.2253 - val_Efficient_CapsNet_loss: 0.0688 - val_Generator_loss: 0.3993 - val_Efficient_CapsNet_accuracy: 0.9134\n",
      "Epoch 27/30\n",
      "38/38 [==============================] - 1s 16ms/step - loss: 0.1826 - Efficient_CapsNet_loss: 0.0259 - Generator_loss: 0.3997 - Efficient_CapsNet_accuracy: 0.9677 - val_loss: 0.2262 - val_Efficient_CapsNet_loss: 0.0697 - val_Generator_loss: 0.3994 - val_Efficient_CapsNet_accuracy: 0.9122\n",
      "Epoch 28/30\n",
      "38/38 [==============================] - 1s 16ms/step - loss: 0.1819 - Efficient_CapsNet_loss: 0.0252 - Generator_loss: 0.3997 - Efficient_CapsNet_accuracy: 0.9672 - val_loss: 0.2392 - val_Efficient_CapsNet_loss: 0.0827 - val_Generator_loss: 0.3993 - val_Efficient_CapsNet_accuracy: 0.8981\n",
      "Epoch 29/30\n",
      "38/38 [==============================] - 1s 16ms/step - loss: 0.1832 - Efficient_CapsNet_loss: 0.0265 - Generator_loss: 0.3997 - Efficient_CapsNet_accuracy: 0.9650 - val_loss: 0.2273 - val_Efficient_CapsNet_loss: 0.0707 - val_Generator_loss: 0.3994 - val_Efficient_CapsNet_accuracy: 0.9093\n",
      "Epoch 30/30\n",
      "38/38 [==============================] - 1s 16ms/step - loss: 0.1788 - Efficient_CapsNet_loss: 0.0221 - Generator_loss: 0.3997 - Efficient_CapsNet_accuracy: 0.9713 - val_loss: 0.2337 - val_Efficient_CapsNet_loss: 0.0772 - val_Generator_loss: 0.3994 - val_Efficient_CapsNet_accuracy: 0.8932\n"
     ]
    }
   ],
   "source": [
    "train_model, eval_model = efinet.build_graph([32, 32, 3], 2, verbose=False)\n",
    "train_model.compile(optimizer=tf.keras.optimizers.Adam(learning_rate=5e-4),\n",
    "                    loss=[efinet.marginLoss, 'mse'],\n",
    "                    loss_weights=[1., 0.392],\n",
    "                    metrics={'Efficient_CapsNet': 'accuracy'})\n",
    "\n",
    "#with tf.device('/cpu:0'):\n",
    "history = train_model.fit([X_train, y_train], [y_train, X_train], batch_size=256, epochs=30,\n",
    "                          validation_data=[[X_test, y_test], [y_test, X_test]])"
   ],
   "metadata": {
    "collapsed": false,
    "ExecuteTime": {
     "start_time": "2023-04-23T16:06:38.608510Z",
     "end_time": "2023-04-23T16:06:58.719426Z"
    }
   }
  },
  {
   "cell_type": "code",
   "execution_count": 32,
   "outputs": [],
   "source": [
    "# model_name = \"Merged_5s\"\n",
    "# lr = 5e-4\n",
    "# epochs = 100\n",
    "# batch_size = 256\n",
    "#\n",
    "# # Train model\n",
    "# train_model, eval_model = efinet.build_graph([32, 32, 3], 2, verbose=False)\n",
    "# trained_model = efinet.train(model=train_model, data=((X_train, y_train), (X_test, y_test)),\n",
    "#                              epochs=epochs, lr=lr, model_name=model_name, batch_size=batch_size)"
   ],
   "metadata": {
    "collapsed": false,
    "ExecuteTime": {
     "start_time": "2023-04-23T15:59:52.524292Z",
     "end_time": "2023-04-23T15:59:52.542527Z"
    }
   }
  },
  {
   "cell_type": "code",
   "execution_count": 49,
   "outputs": [
    {
     "name": "stdout",
     "output_type": "stream",
     "text": [
      "Train acc:  0.9713\n",
      "Val acc:  0.9159\n"
     ]
    }
   ],
   "source": [
    "print(\"Train acc: \", np.round(np.max(history.history[\"Efficient_CapsNet_accuracy\"]), 4))\n",
    "print(\"Val acc: \", np.round(np.max(history.history[\"val_Efficient_CapsNet_accuracy\"]), 4))"
   ],
   "metadata": {
    "collapsed": false,
    "ExecuteTime": {
     "start_time": "2023-04-23T16:07:03.015635Z",
     "end_time": "2023-04-23T16:07:03.027631Z"
    }
   }
  },
  {
   "cell_type": "code",
   "execution_count": 50,
   "outputs": [
    {
     "name": "stdout",
     "output_type": "stream",
     "text": [
      "Accuracy = 0.9142268041237114\n",
      "F1 Score = 0.9019854742628313\n",
      "TPR = 0.9214063225726823\n",
      "TNR =  0.8889283583789731\n",
      "AUC = 0.9408796999919063\n"
     ]
    },
    {
     "data": {
      "text/plain": "<Figure size 640x480 with 1 Axes>",
      "image/png": "[encoded data removed]"
     },
     "metadata": {},
     "output_type": "display_data"
    }
   ],
   "source": [
    "eval_model.load_weights(f\"../results/models/Merged_5s.h5\")\n",
    "\n",
    "# Predict the values from the validation dataset\n",
    "Y_pred = eval_model.predict(X_test)\n",
    "\n",
    "utils.print_stats(y_test, Y_pred)\n",
    "utils.plot_confusion_matrix(y_test, Y_pred, normalize=\"pred\")\n",
    "# plt.savefig(f\"{fpath}/merged_5s.pdf\", format=\"pdf\", bbox_inches=\"tight\")"
   ],
   "metadata": {
    "collapsed": false,
    "ExecuteTime": {
     "start_time": "2023-04-23T16:07:04.547630Z",
     "end_time": "2023-04-23T16:07:04.939549Z"
    }
   }
  },
  {
   "cell_type": "code",
   "execution_count": 53,
   "outputs": [
    {
     "name": "stderr",
     "output_type": "stream",
     "text": [
      "Clipping input data to the valid range for imshow with RGB data ([0..1] for floats or [0..255] for integers).\n"
     ]
    },
    {
     "data": {
      "text/plain": "<matplotlib.image.AxesImage at 0x1a582e939d0>"
     },
     "execution_count": 53,
     "metadata": {},
     "output_type": "execute_result"
    },
    {
     "data": {
      "text/plain": "<Figure size 350x262.5 with 1 Axes>",
      "image/png": "[encoded data removed]"
     },
     "metadata": {},
     "output_type": "display_data"
    }
   ],
   "source": [
    "plt.imshow(X_test[0])"
   ],
   "metadata": {
    "collapsed": false,
    "ExecuteTime": {
     "start_time": "2023-04-23T14:12:04.847149Z",
     "end_time": "2023-04-23T14:12:05.257204Z"
    }
   }
  },
  {
   "cell_type": "code",
   "execution_count": 112,
   "outputs": [
    {
     "data": {
      "text/plain": "  0%|          | 0/1000 [00:00<?, ?it/s]",
      "application/vnd.jupyter.widget-view+json": {
       "version_major": 2,
       "version_minor": 0,
       "model_id": "93307cba650348b595581326650cd83e"
      }
     },
     "metadata": {},
     "output_type": "display_data"
    },
    {
     "ename": "ValueError",
     "evalue": "Calling `Model.predict` in graph mode is not supported when the `Model` instance was constructed with eager mode enabled. Please construct your `Model` instance in graph mode or call `Model.predict` with eager mode enabled.",
     "output_type": "error",
     "traceback": [
      "\u001B[1;31m---------------------------------------------------------------------------\u001B[0m",
      "\u001B[1;31mValueError\u001B[0m                                Traceback (most recent call last)",
      "Cell \u001B[1;32mIn[112], line 4\u001B[0m\n\u001B[0;32m      1\u001B[0m \u001B[38;5;28;01mfrom\u001B[39;00m \u001B[38;5;21;01mlime\u001B[39;00m \u001B[38;5;28;01mimport\u001B[39;00m lime_image\n\u001B[0;32m      3\u001B[0m explainer \u001B[38;5;241m=\u001B[39m lime_image\u001B[38;5;241m.\u001B[39mLimeImageExplainer()\n\u001B[1;32m----> 4\u001B[0m explanation \u001B[38;5;241m=\u001B[39m \u001B[43mexplainer\u001B[49m\u001B[38;5;241;43m.\u001B[39;49m\u001B[43mexplain_instance\u001B[49m\u001B[43m(\u001B[49m\u001B[43mX\u001B[49m\u001B[43m[\u001B[49m\u001B[38;5;241;43m100\u001B[39;49m\u001B[43m]\u001B[49m\u001B[38;5;241;43m.\u001B[39;49m\u001B[43mastype\u001B[49m\u001B[43m(\u001B[49m\u001B[38;5;124;43m\"\u001B[39;49m\u001B[38;5;124;43mdouble\u001B[39;49m\u001B[38;5;124;43m\"\u001B[39;49m\u001B[43m)\u001B[49m\u001B[43m,\u001B[49m\u001B[43m \u001B[49m\u001B[43meval_model\u001B[49m\u001B[38;5;241;43m.\u001B[39;49m\u001B[43mpredict\u001B[49m\u001B[43m)\u001B[49m\n\u001B[0;32m      5\u001B[0m \u001B[38;5;28mprint\u001B[39m(y[\u001B[38;5;241m100\u001B[39m])\n",
      "File \u001B[1;32m~\\Desktop\\TFTest\\lib\\site-packages\\lime\\lime_image.py:198\u001B[0m, in \u001B[0;36mLimeImageExplainer.explain_instance\u001B[1;34m(self, image, classifier_fn, labels, hide_color, top_labels, num_features, num_samples, batch_size, segmentation_fn, distance_metric, model_regressor, random_seed)\u001B[0m\n\u001B[0;32m    194\u001B[0m     fudged_image[:] \u001B[38;5;241m=\u001B[39m hide_color\n\u001B[0;32m    196\u001B[0m top \u001B[38;5;241m=\u001B[39m labels\n\u001B[1;32m--> 198\u001B[0m data, labels \u001B[38;5;241m=\u001B[39m \u001B[38;5;28;43mself\u001B[39;49m\u001B[38;5;241;43m.\u001B[39;49m\u001B[43mdata_labels\u001B[49m\u001B[43m(\u001B[49m\u001B[43mimage\u001B[49m\u001B[43m,\u001B[49m\u001B[43m \u001B[49m\u001B[43mfudged_image\u001B[49m\u001B[43m,\u001B[49m\u001B[43m \u001B[49m\u001B[43msegments\u001B[49m\u001B[43m,\u001B[49m\n\u001B[0;32m    199\u001B[0m \u001B[43m                                \u001B[49m\u001B[43mclassifier_fn\u001B[49m\u001B[43m,\u001B[49m\u001B[43m \u001B[49m\u001B[43mnum_samples\u001B[49m\u001B[43m,\u001B[49m\n\u001B[0;32m    200\u001B[0m \u001B[43m                                \u001B[49m\u001B[43mbatch_size\u001B[49m\u001B[38;5;241;43m=\u001B[39;49m\u001B[43mbatch_size\u001B[49m\u001B[43m)\u001B[49m\n\u001B[0;32m    202\u001B[0m distances \u001B[38;5;241m=\u001B[39m sklearn\u001B[38;5;241m.\u001B[39mmetrics\u001B[38;5;241m.\u001B[39mpairwise_distances(\n\u001B[0;32m    203\u001B[0m     data,\n\u001B[0;32m    204\u001B[0m     data[\u001B[38;5;241m0\u001B[39m]\u001B[38;5;241m.\u001B[39mreshape(\u001B[38;5;241m1\u001B[39m, \u001B[38;5;241m-\u001B[39m\u001B[38;5;241m1\u001B[39m),\n\u001B[0;32m    205\u001B[0m     metric\u001B[38;5;241m=\u001B[39mdistance_metric\n\u001B[0;32m    206\u001B[0m )\u001B[38;5;241m.\u001B[39mravel()\n\u001B[0;32m    208\u001B[0m ret_exp \u001B[38;5;241m=\u001B[39m ImageExplanation(image, segments)\n",
      "File \u001B[1;32m~\\Desktop\\TFTest\\lib\\site-packages\\lime\\lime_image.py:261\u001B[0m, in \u001B[0;36mLimeImageExplainer.data_labels\u001B[1;34m(self, image, fudged_image, segments, classifier_fn, num_samples, batch_size)\u001B[0m\n\u001B[0;32m    259\u001B[0m imgs\u001B[38;5;241m.\u001B[39mappend(temp)\n\u001B[0;32m    260\u001B[0m \u001B[38;5;28;01mif\u001B[39;00m \u001B[38;5;28mlen\u001B[39m(imgs) \u001B[38;5;241m==\u001B[39m batch_size:\n\u001B[1;32m--> 261\u001B[0m     preds \u001B[38;5;241m=\u001B[39m \u001B[43mclassifier_fn\u001B[49m\u001B[43m(\u001B[49m\u001B[43mnp\u001B[49m\u001B[38;5;241;43m.\u001B[39;49m\u001B[43marray\u001B[49m\u001B[43m(\u001B[49m\u001B[43mimgs\u001B[49m\u001B[43m)\u001B[49m\u001B[43m)\u001B[49m\n\u001B[0;32m    262\u001B[0m     labels\u001B[38;5;241m.\u001B[39mextend(preds)\n\u001B[0;32m    263\u001B[0m     imgs \u001B[38;5;241m=\u001B[39m []\n",
      "File \u001B[1;32m~\\Desktop\\TFTest\\lib\\site-packages\\keras\\utils\\traceback_utils.py:67\u001B[0m, in \u001B[0;36mfilter_traceback.<locals>.error_handler\u001B[1;34m(*args, **kwargs)\u001B[0m\n\u001B[0;32m     65\u001B[0m \u001B[38;5;28;01mexcept\u001B[39;00m \u001B[38;5;167;01mException\u001B[39;00m \u001B[38;5;28;01mas\u001B[39;00m e:  \u001B[38;5;66;03m# pylint: disable=broad-except\u001B[39;00m\n\u001B[0;32m     66\u001B[0m   filtered_tb \u001B[38;5;241m=\u001B[39m _process_traceback_frames(e\u001B[38;5;241m.\u001B[39m__traceback__)\n\u001B[1;32m---> 67\u001B[0m   \u001B[38;5;28;01mraise\u001B[39;00m e\u001B[38;5;241m.\u001B[39mwith_traceback(filtered_tb) \u001B[38;5;28;01mfrom\u001B[39;00m \u001B[38;5;28mNone\u001B[39m\n\u001B[0;32m     68\u001B[0m \u001B[38;5;28;01mfinally\u001B[39;00m:\n\u001B[0;32m     69\u001B[0m   \u001B[38;5;28;01mdel\u001B[39;00m filtered_tb\n",
      "File \u001B[1;32m~\\Desktop\\TFTest\\lib\\site-packages\\keras\\utils\\version_utils.py:128\u001B[0m, in \u001B[0;36mdisallow_legacy_graph\u001B[1;34m(cls_name, method_name)\u001B[0m\n\u001B[0;32m    122\u001B[0m \u001B[38;5;28;01mif\u001B[39;00m \u001B[38;5;129;01mnot\u001B[39;00m tf\u001B[38;5;241m.\u001B[39mcompat\u001B[38;5;241m.\u001B[39mv1\u001B[38;5;241m.\u001B[39mexecuting_eagerly_outside_functions():\n\u001B[0;32m    123\u001B[0m   error_msg \u001B[38;5;241m=\u001B[39m (\n\u001B[0;32m    124\u001B[0m       \u001B[38;5;124mf\u001B[39m\u001B[38;5;124m\"\u001B[39m\u001B[38;5;124mCalling `\u001B[39m\u001B[38;5;132;01m{\u001B[39;00mcls_name\u001B[38;5;132;01m}\u001B[39;00m\u001B[38;5;124m.\u001B[39m\u001B[38;5;132;01m{\u001B[39;00mmethod_name\u001B[38;5;132;01m}\u001B[39;00m\u001B[38;5;124m` in graph mode is not supported \u001B[39m\u001B[38;5;124m\"\u001B[39m\n\u001B[0;32m    125\u001B[0m       \u001B[38;5;124mf\u001B[39m\u001B[38;5;124m\"\u001B[39m\u001B[38;5;124mwhen the `\u001B[39m\u001B[38;5;132;01m{\u001B[39;00mcls_name\u001B[38;5;132;01m}\u001B[39;00m\u001B[38;5;124m` instance was constructed with eager mode \u001B[39m\u001B[38;5;124m\"\u001B[39m\n\u001B[0;32m    126\u001B[0m       \u001B[38;5;124mf\u001B[39m\u001B[38;5;124m\"\u001B[39m\u001B[38;5;124menabled. Please construct your `\u001B[39m\u001B[38;5;132;01m{\u001B[39;00mcls_name\u001B[38;5;132;01m}\u001B[39;00m\u001B[38;5;124m` instance in graph mode or\u001B[39m\u001B[38;5;124m\"\u001B[39m\n\u001B[0;32m    127\u001B[0m       \u001B[38;5;124mf\u001B[39m\u001B[38;5;124m\"\u001B[39m\u001B[38;5;124m call `\u001B[39m\u001B[38;5;132;01m{\u001B[39;00mcls_name\u001B[38;5;132;01m}\u001B[39;00m\u001B[38;5;124m.\u001B[39m\u001B[38;5;132;01m{\u001B[39;00mmethod_name\u001B[38;5;132;01m}\u001B[39;00m\u001B[38;5;124m` with eager mode enabled.\u001B[39m\u001B[38;5;124m\"\u001B[39m)\n\u001B[1;32m--> 128\u001B[0m   \u001B[38;5;28;01mraise\u001B[39;00m \u001B[38;5;167;01mValueError\u001B[39;00m(error_msg)\n",
      "\u001B[1;31mValueError\u001B[0m: Calling `Model.predict` in graph mode is not supported when the `Model` instance was constructed with eager mode enabled. Please construct your `Model` instance in graph mode or call `Model.predict` with eager mode enabled."
     ]
    }
   ],
   "source": [
    "from lime import lime_image\n",
    "\n",
    "explainer = lime_image.LimeImageExplainer()\n",
    "explanation = explainer.explain_instance(X[100].astype(\"double\"), eval_model.predict)\n",
    "print(y[100])"
   ],
   "metadata": {
    "collapsed": false,
    "ExecuteTime": {
     "start_time": "2023-04-23T14:35:14.025230Z",
     "end_time": "2023-04-23T14:35:16.388586Z"
    }
   }
  },
  {
   "cell_type": "code",
   "execution_count": 89,
   "outputs": [
    {
     "name": "stderr",
     "output_type": "stream",
     "text": [
      "Clipping input data to the valid range for imshow with RGB data ([0..1] for floats or [0..255] for integers).\n"
     ]
    },
    {
     "data": {
      "text/plain": "<matplotlib.image.AxesImage at 0x1c2a19da320>"
     },
     "execution_count": 89,
     "metadata": {},
     "output_type": "execute_result"
    },
    {
     "data": {
      "text/plain": "<Figure size 350x262.5 with 1 Axes>",
      "image/png": "[encoded data removed]"
     },
     "metadata": {},
     "output_type": "display_data"
    }
   ],
   "source": [
    "from skimage.segmentation import mark_boundaries\n",
    "\n",
    "temp, mask = explanation.get_image_and_mask(explanation.top_labels[0], positive_only=True, num_features=1, hide_rest=True)\n",
    "plt.imshow(mark_boundaries(temp / 2 + 0.5, mask))"
   ],
   "metadata": {
    "collapsed": false,
    "ExecuteTime": {
     "start_time": "2023-04-23T14:35:18.601636Z",
     "end_time": "2023-04-23T14:35:18.709154Z"
    }
   }
  },
  {
   "cell_type": "code",
   "execution_count": 81,
   "outputs": [
    {
     "data": {
      "text/plain": "<matplotlib.colorbar.Colorbar at 0x1c2a12afa30>"
     },
     "execution_count": 81,
     "metadata": {},
     "output_type": "execute_result"
    },
    {
     "data": {
      "text/plain": "<Figure size 350x262.5 with 2 Axes>",
      "image/png": "[encoded data removed]"
     },
     "metadata": {},
     "output_type": "display_data"
    }
   ],
   "source": [
    "\n",
    "\n",
    "#Select the same class explained on the figures above.\n",
    "ind =  explanation.top_labels[0]\n",
    "\n",
    "#Map each explanation weight to the corresponding superpixel\n",
    "dict_heatmap = dict(explanation.local_exp[ind])\n",
    "heatmap = np.vectorize(dict_heatmap.get)(explanation.segments)\n",
    "\n",
    "#Plot. The visualization makes more sense if a symmetrical colorbar is used.\n",
    "plt.imshow(heatmap, cmap = 'RdBu', vmin  = -heatmap.max(), vmax = heatmap.max())\n",
    "plt.colorbar()"
   ],
   "metadata": {
    "collapsed": false,
    "ExecuteTime": {
     "start_time": "2023-04-23T14:34:36.612758Z",
     "end_time": "2023-04-23T14:34:37.862547Z"
    }
   }
  }
 ],
 "metadata": {
  "kernelspec": {
   "display_name": "Python 3",
   "language": "python",
   "name": "python3"
  },
  "language_info": {
   "codemirror_mode": {
    "name": "ipython",
    "version": 2
   },
   "file_extension": ".py",
   "mimetype": "text/x-python",
   "name": "python",
   "nbconvert_exporter": "python",
   "pygments_lexer": "ipython2",
   "version": "2.7.6"
  }
 },
 "nbformat": 4,
 "nbformat_minor": 0
}
