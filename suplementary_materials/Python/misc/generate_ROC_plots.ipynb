{
 "cells": [
  {
   "cell_type": "code",
   "execution_count": null,
   "metadata": {
    "collapsed": true
   },
   "outputs": [],
   "source": [
    "import matplotlib.pyplot as plt\n",
    "import neurokit2 as nk\n",
    "import scienceplots\n",
    "plt.style.use(\"science\")\n",
    "fpath = \"C:/Users/Marek/OneDrive/School/DP/masters-thesis/assets/figures\"\n",
    "plt.rcParams[\"font.family\"] = [\"Latin Modern Roman\"]\n",
    "plt.rcParams[\"font.size\"] = 14\n",
    "\n",
    "eda_signal = nk.eda_simulate(duration=10, sampling_rate=250, scr_number=2, drift=0.01, noise=0.3)\n",
    "signals, info = nk.eda_process(eda_signal, sampling_rate=250)\n",
    "\n",
    "plt.rcParams[\"figure.figsize\"] = (12, 7)\n",
    "nk.eda_plot(signals, sampling_rate=250)\n",
    "#plt.legend(loc='upper left', frameon=False)\n",
    "plt.savefig(f\"{fpath}/eda_test.pdf\", format=\"pdf\", bbox_inches=\"tight\")"
   ]
  }
 ],
 "metadata": {
  "kernelspec": {
   "display_name": "Python 3",
   "language": "python",
   "name": "python3"
  },
  "language_info": {
   "codemirror_mode": {
    "name": "ipython",
    "version": 2
   },
   "file_extension": ".py",
   "mimetype": "text/x-python",
   "name": "python",
   "nbconvert_exporter": "python",
   "pygments_lexer": "ipython2",
   "version": "2.7.6"
  }
 },
 "nbformat": 4,
 "nbformat_minor": 0
}
