{
 "cells": [
  {
   "cell_type": "code",
   "execution_count": 3,
   "metadata": {
    "collapsed": true,
    "ExecuteTime": {
     "end_time": "2023-05-08T09:36:39.868169700Z",
     "start_time": "2023-05-08T09:36:39.857663500Z"
    }
   },
   "outputs": [],
   "source": [
    "import matplotlib.pyplot as plt\n",
    "import scienceplots\n",
    "import pandas as pd\n",
    "import numpy as np\n",
    "import pickle\n",
    "import scipy\n",
    "\n",
    "from utils import utils\n",
    "import utils.efinet as efinet\n",
    "#from keras.utils.np_utils import to_categorical\n",
    "import tensorflow as tf"
   ]
  },
  {
   "cell_type": "code",
   "execution_count": 82,
   "outputs": [
    {
     "name": "stdout",
     "output_type": "stream",
     "text": [
      "Data shape:  (1457, 32, 32, 3)\n"
     ]
    }
   ],
   "source": [
    "# Load and\n",
    "# concat data\n",
    "with open(\"../tests/data/Hydro/MotherShip2.pkl\", \"rb\") as f:\n",
    "    labels = pickle.load(f)\n",
    "\n",
    "with open(\"../tests/data/GADF_prepared/GADF_5s_MotherShip2.pkl\", \"rb\") as f:\n",
    "    gadf = pickle.load(f)\n",
    "\n",
    "gcn = scipy.io.loadmat(\"../tests/data/GCN_prepared/GCN_MotherShip2.mat\")\n",
    "gcn = np.transpose(gcn[\"cause5s\"], (0, 2, 3, 1))\n",
    "\n",
    "result = []\n",
    "for i in range(len(gadf)):\n",
    "    result.append(gcn[i] + gadf[i])\n",
    "\n",
    "data = np.array(result)\n",
    "\n",
    "print(\"Data shape: \", np.shape(data))"
   ],
   "metadata": {
    "collapsed": false,
    "ExecuteTime": {
     "end_time": "2023-05-08T09:53:25.089402700Z",
     "start_time": "2023-05-08T09:53:24.823631300Z"
    }
   }
  },
  {
   "cell_type": "code",
   "execution_count": 83,
   "outputs": [],
   "source": [
    "%%capture\n",
    "_, eval_model = efinet.build_graph([32, 32, 3], 2)\n",
    "eval_model.load_weights(f\"../results/models/WESAD_5s.h5\")\n",
    "\n",
    "# Predict the values from the validation dataset\n",
    "pred = eval_model.predict(data)"
   ],
   "metadata": {
    "collapsed": false,
    "ExecuteTime": {
     "end_time": "2023-05-08T09:53:25.885855900Z",
     "start_time": "2023-05-08T09:53:25.503771900Z"
    }
   }
  },
  {
   "cell_type": "code",
   "execution_count": 65,
   "outputs": [
    {
     "data": {
      "text/plain": "                                                  ECG  \\\n0   [-0.10553363389360051, -0.0567083915766646, 0....   \n1   [-0.42613689869065513, -0.4313707514386413, -0...   \n2   [-0.3592351094052267, -0.36565851002289085, -0...   \n3   [-0.7288739416781161, -0.8287358926308953, -0....   \n4   [0.4821825691984367, 0.5297843982255305, 0.611...   \n..                                                ...   \n87  [-0.0924645776616076, -1.8806162901700727, -3....   \n88  [-0.12427271769740593, -0.1652288810746541, -0...   \n89  [0.25386068805089795, 0.2256342117727028, 0.17...   \n90  [-0.19160361149965885, -0.21424246939991326, -...   \n91  [-0.17032102122258522, -0.16061014682044428, -...   \n\n                                                  RSP  \\\n0   [0.4697768121972327, 0.4761098539776632, 0.482...   \n1   [0.8325945140008675, 0.8337414244032914, 0.834...   \n2   [0.6743192498129644, 0.6762221979331144, 0.678...   \n3   [-6.006962509805776, -5.986471227702612, -5.96...   \n4   [3.2740185836673423, 3.334079965247834, 3.3944...   \n..                                                ...   \n87  [0.2782064678401502, 0.26840864719574525, 0.25...   \n88  [0.5935714451499652, 0.6062646296728547, 0.618...   \n89  [-1.5663864031179142, -1.5680870063207863, -1....   \n90  [-0.9644927836322366, -0.9703737874587081, -0....   \n91  [0.6816604164360062, 0.6934981222305012, 0.705...   \n\n                                                  EDA  label       start  \\\n0   [-3.7542692897406726, -3.770494320839729, -3.7...  GONGO  1661090461   \n1   [-4.98787780548517, -4.9874498016421285, -4.98...  GONGO  1661090461   \n2   [0.21508428425083553, 0.21648821735477455, 0.2...  GONGO  1661090461   \n3   [2.1428405734377605, 2.146546916033839, 2.1501...  GONGO  1661090461   \n4   [-0.28726746665566627, -0.29130850146281073, -...  GONGO  1661090461   \n..                                                ...    ...         ...   \n87  [-0.4337888468404563, -0.43713242953433756, -0...  SAT66  1661453666   \n88  [-0.42418865162966835, -0.4179014362008312, -0...  SAT66  1661453666   \n89  [-0.9080211903723967, -0.9261127132792065, -0....  SAT66  1661453666   \n90  [0.17335498821836845, 0.17910532627997822, 0.1...  SAT66  1661453666   \n91  [-0.10033997569108045, -0.09073961231784294, -...  SAT66  1661453666   \n\n           end  segment  \n0   1661090780        0  \n1   1661090780        0  \n2   1661090780        0  \n3   1661090780        0  \n4   1661090780        0  \n..         ...      ...  \n87  1661454128       37  \n88  1661454128       37  \n89  1661454128       37  \n90  1661454128       37  \n91  1661454128       37  \n\n[3303 rows x 7 columns]",
      "text/html": "<div>\n<style scoped>\n    .dataframe tbody tr th:only-of-type {\n        vertical-align: middle;\n    }\n\n    .dataframe tbody tr th {\n        vertical-align: top;\n    }\n\n    .dataframe thead th {\n        text-align: right;\n    }\n</style>\n<table border=\"1\" class=\"dataframe\">\n  <thead>\n    <tr style=\"text-align: right;\">\n      <th></th>\n      <th>ECG</th>\n      <th>RSP</th>\n      <th>EDA</th>\n      <th>label</th>\n      <th>start</th>\n      <th>end</th>\n      <th>segment</th>\n    </tr>\n  </thead>\n  <tbody>\n    <tr>\n      <th>0</th>\n      <td>[-0.10553363389360051, -0.0567083915766646, 0....</td>\n      <td>[0.4697768121972327, 0.4761098539776632, 0.482...</td>\n      <td>[-3.7542692897406726, -3.770494320839729, -3.7...</td>\n      <td>GONGO</td>\n      <td>1661090461</td>\n      <td>1661090780</td>\n      <td>0</td>\n    </tr>\n    <tr>\n      <th>1</th>\n      <td>[-0.42613689869065513, -0.4313707514386413, -0...</td>\n      <td>[0.8325945140008675, 0.8337414244032914, 0.834...</td>\n      <td>[-4.98787780548517, -4.9874498016421285, -4.98...</td>\n      <td>GONGO</td>\n      <td>1661090461</td>\n      <td>1661090780</td>\n      <td>0</td>\n    </tr>\n    <tr>\n      <th>2</th>\n      <td>[-0.3592351094052267, -0.36565851002289085, -0...</td>\n      <td>[0.6743192498129644, 0.6762221979331144, 0.678...</td>\n      <td>[0.21508428425083553, 0.21648821735477455, 0.2...</td>\n      <td>GONGO</td>\n      <td>1661090461</td>\n      <td>1661090780</td>\n      <td>0</td>\n    </tr>\n    <tr>\n      <th>3</th>\n      <td>[-0.7288739416781161, -0.8287358926308953, -0....</td>\n      <td>[-6.006962509805776, -5.986471227702612, -5.96...</td>\n      <td>[2.1428405734377605, 2.146546916033839, 2.1501...</td>\n      <td>GONGO</td>\n      <td>1661090461</td>\n      <td>1661090780</td>\n      <td>0</td>\n    </tr>\n    <tr>\n      <th>4</th>\n      <td>[0.4821825691984367, 0.5297843982255305, 0.611...</td>\n      <td>[3.2740185836673423, 3.334079965247834, 3.3944...</td>\n      <td>[-0.28726746665566627, -0.29130850146281073, -...</td>\n      <td>GONGO</td>\n      <td>1661090461</td>\n      <td>1661090780</td>\n      <td>0</td>\n    </tr>\n    <tr>\n      <th>...</th>\n      <td>...</td>\n      <td>...</td>\n      <td>...</td>\n      <td>...</td>\n      <td>...</td>\n      <td>...</td>\n      <td>...</td>\n    </tr>\n    <tr>\n      <th>87</th>\n      <td>[-0.0924645776616076, -1.8806162901700727, -3....</td>\n      <td>[0.2782064678401502, 0.26840864719574525, 0.25...</td>\n      <td>[-0.4337888468404563, -0.43713242953433756, -0...</td>\n      <td>SAT66</td>\n      <td>1661453666</td>\n      <td>1661454128</td>\n      <td>37</td>\n    </tr>\n    <tr>\n      <th>88</th>\n      <td>[-0.12427271769740593, -0.1652288810746541, -0...</td>\n      <td>[0.5935714451499652, 0.6062646296728547, 0.618...</td>\n      <td>[-0.42418865162966835, -0.4179014362008312, -0...</td>\n      <td>SAT66</td>\n      <td>1661453666</td>\n      <td>1661454128</td>\n      <td>37</td>\n    </tr>\n    <tr>\n      <th>89</th>\n      <td>[0.25386068805089795, 0.2256342117727028, 0.17...</td>\n      <td>[-1.5663864031179142, -1.5680870063207863, -1....</td>\n      <td>[-0.9080211903723967, -0.9261127132792065, -0....</td>\n      <td>SAT66</td>\n      <td>1661453666</td>\n      <td>1661454128</td>\n      <td>37</td>\n    </tr>\n    <tr>\n      <th>90</th>\n      <td>[-0.19160361149965885, -0.21424246939991326, -...</td>\n      <td>[-0.9644927836322366, -0.9703737874587081, -0....</td>\n      <td>[0.17335498821836845, 0.17910532627997822, 0.1...</td>\n      <td>SAT66</td>\n      <td>1661453666</td>\n      <td>1661454128</td>\n      <td>37</td>\n    </tr>\n    <tr>\n      <th>91</th>\n      <td>[-0.17032102122258522, -0.16061014682044428, -...</td>\n      <td>[0.6816604164360062, 0.6934981222305012, 0.705...</td>\n      <td>[-0.10033997569108045, -0.09073961231784294, -...</td>\n      <td>SAT66</td>\n      <td>1661453666</td>\n      <td>1661454128</td>\n      <td>37</td>\n    </tr>\n  </tbody>\n</table>\n<p>3303 rows × 7 columns</p>\n</div>"
     },
     "execution_count": 65,
     "metadata": {},
     "output_type": "execute_result"
    }
   ],
   "source": [
    "# probs = pd.DataFrame(pred[0])\n",
    "# df = pd.DataFrame({\n",
    "#     \"label\": labels.label.values,\n",
    "#     \"end\": labels.end.values,\n",
    "#     \"pred\": probs[1],\n",
    "#     \"id\": \"Lander4\"\n",
    "# })\n",
    "# df.to_csv(\"Lander4_1s.csv\", index=False)\n",
    "labels"
   ],
   "metadata": {
    "collapsed": false,
    "ExecuteTime": {
     "end_time": "2023-05-08T09:50:02.427057900Z",
     "start_time": "2023-05-08T09:50:02.409059500Z"
    }
   }
  },
  {
   "cell_type": "code",
   "execution_count": 67,
   "outputs": [],
   "source": [
    "import scienceplots\n",
    "plt.style.use(\"science\")"
   ],
   "metadata": {
    "collapsed": false,
    "ExecuteTime": {
     "end_time": "2023-05-08T09:50:04.514479Z",
     "start_time": "2023-05-08T09:50:04.511477500Z"
    }
   }
  },
  {
   "cell_type": "code",
   "execution_count": 91,
   "outputs": [
    {
     "data": {
      "text/plain": "<Figure size 2000x500 with 1 Axes>",
      "image/png": "[encoded data removed]"
     },
     "metadata": {},
     "output_type": "display_data"
    }
   ],
   "source": [
    "plt.rcParams[\"figure.figsize\"] = (20, 5)\n",
    "probs = pd.DataFrame(pred[0])\n",
    "# plt.stem(np.arange(0, len(labels)), labels.label, markerfmt=\"\")\n",
    "plt.stem(probs[1] > 0.5, \"#ff7f0e\", markerfmt=\"\")\n",
    "# plt.stem(probs[0] > 0., \"#1f77b4\", markerfmt=\"\")\n",
    "\n",
    "# plt.stem(probs[0].rolling(10).mean() - 0.2, \"#1f77b4\", markerfmt=\"\")\n",
    "# plt.stem(probs[1], \"#ff7f0e\", markerfmt=\"\")\n",
    "\n",
    "# plt.hlines(0.5, 0, len(labels), \"k\")\n",
    "plt.hlines(1, 0, len(labels), \"k\")\n",
    "plt.grid()\n",
    "\n",
    "plt.savefig(f\"mothership_test.pdf\", format=\"png\", bbox_inches=\"tight\", dpi=600)"
   ],
   "metadata": {
    "collapsed": false,
    "ExecuteTime": {
     "end_time": "2023-05-08T09:55:14.581210100Z",
     "start_time": "2023-05-08T09:55:13.673724Z"
    }
   }
  }
 ],
 "metadata": {
  "kernelspec": {
   "display_name": "Python 3",
   "language": "python",
   "name": "python3"
  },
  "language_info": {
   "codemirror_mode": {
    "name": "ipython",
    "version": 2
   },
   "file_extension": ".py",
   "mimetype": "text/x-python",
   "name": "python",
   "nbconvert_exporter": "python",
   "pygments_lexer": "ipython2",
   "version": "2.7.6"
  }
 },
 "nbformat": 4,
 "nbformat_minor": 0
}
